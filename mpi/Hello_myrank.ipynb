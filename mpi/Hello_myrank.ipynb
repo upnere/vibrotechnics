{
 "cells": [
  {
   "cell_type": "markdown",
   "id": "5d223967-4a35-407d-a2f7-bdbb8c23f2b9",
   "metadata": {},
   "source": [
    "**Jupyter notebook quick start:**<br>\n",
    "- \\<Shift>+\\<Return> --> runs a cell\n",
    "- ! --> shell escape [! Linux command line]\n",
    "- use a (above) and b (below) left of the [ ] to open new cells\n",
    "---\n",
    "&nbsp;<br>"
   ]
  },
  {
   "cell_type": "markdown",
   "id": "7b8b3b7c-e15e-466d-b324-a5ce3fd18359",
   "metadata": {},
   "source": [
    "<img src=\"img/exercise.png\" width=\"45\"> **Exercise 1** \n",
    "<br>\n",
    "\n",
    "### Hello"
   ]
  },
  {
   "cell_type": "markdown",
   "id": "03d9d0ce-79ef-4766-9d0a-beb0ff4c9ffc",
   "metadata": {},
   "source": [
    "*Write a MPI program that prints \"Hello World!\" by each MPI process.*\n",
    "\n",
    "Replace the ___ (underscore) with the required Python script.  \n",
    "Note, if you don't change the cell below the next cell (! python...) will show errors."
   ]
  },
  {
   "cell_type": "code",
   "execution_count": 2,
   "id": "adc73ff7-6447-45ab-9344-8ea2967b841d",
   "metadata": {
    "tags": []
   },
   "outputs": [
    {
     "name": "stdout",
     "output_type": "stream",
     "text": [
      "Overwriting exercises/hello.py\n"
     ]
    }
   ],
   "source": [
    "%%writefile exercises/hello.py\n",
    "\n",
    "# PLEASE use the appropriate MPI library\n",
    "\n",
    "\n",
    "print(\"Hello World!\")"
   ]
  },
  {
   "cell_type": "markdown",
   "id": "6e1c939f-db58-4c80-8871-aab667ada929",
   "metadata": {},
   "source": [
    "<br>*Run it on a single processor (serial program):*"
   ]
  },
  {
   "cell_type": "code",
   "execution_count": 4,
   "id": "0375ec00-7ab0-4e68-b907-3399e77e319e",
   "metadata": {
    "tags": []
   },
   "outputs": [
    {
     "name": "stdout",
     "output_type": "stream",
     "text": [
      "Hello World!\n"
     ]
    }
   ],
   "source": [
    "! python exercises/hello.py"
   ]
  },
  {
   "cell_type": "markdown",
   "id": "5112674f-c2d7-4516-b3c7-ed1121fc4ca4",
   "metadata": {},
   "source": [
    "<br>*Run it on several processors in parallel (with several, e.g., 4, MPI processes):*"
   ]
  },
  {
   "cell_type": "code",
   "execution_count": 20,
   "id": "5cdff443-0ae1-44e7-ae16-cb9e578db947",
   "metadata": {
    "tags": []
   },
   "outputs": [
    {
     "name": "stdout",
     "output_type": "stream",
     "text": [
      "Hello World!\n",
      "Hello World!\n",
      "Hello World!\n",
      "Hello World!\n"
     ]
    }
   ],
   "source": [
    "! mpiexec -n 4 python exercises/hello.py "
   ]
  },
  {
   "cell_type": "markdown",
   "id": "487a578c-6a76-40d2-bab9-e8deea2bc5b8",
   "metadata": {
    "tags": []
   },
   "source": [
    "<br>**Expected output with 4 MPI processes:**"
   ]
  },
  {
   "cell_type": "raw",
   "id": "bfca0da4-b091-4fb1-8fb6-62109b4cf204",
   "metadata": {},
   "source": [
    "Hello World!\n",
    "Hello World!\n",
    "Hello World!\n",
    "Hello World!"
   ]
  },
  {
   "cell_type": "markdown",
   "id": "0a682b34-e0f6-493d-80ed-8bed639cbceb",
   "metadata": {},
   "source": [
    "&nbsp;"
   ]
  },
  {
   "cell_type": "markdown",
   "id": "798941dd-3a92-4941-b7dd-13f2399d28c1",
   "metadata": {
    "tags": []
   },
   "source": [
    "*Play around with different numbers of MPI processes.*"
   ]
  },
  {
   "cell_type": "code",
   "execution_count": 22,
   "id": "cde91f7b-255e-4020-9bd4-7fc77197e208",
   "metadata": {
    "tags": []
   },
   "outputs": [
    {
     "name": "stdout",
     "output_type": "stream",
     "text": [
      "Hello World!\n",
      "Hello World!\n",
      "Hello World!\n",
      "Hello World!\n",
      "Hello World!\n",
      "Hello World!\n",
      "Hello World!\n",
      "Hello World!\n"
     ]
    }
   ],
   "source": [
    "! mpiexec -n 8 python exercises/hello.py"
   ]
  },
  {
   "cell_type": "markdown",
   "id": "aafb6e81-08b2-4ec2-b7e0-8a0751f3d3ec",
   "metadata": {},
   "source": [
    "&nbsp;"
   ]
  },
  {
   "cell_type": "markdown",
   "id": "2e3ccf5a-5a3c-4d46-acf1-cf371adb8c92",
   "metadata": {
    "tags": []
   },
   "source": [
    "<img src=\"img/exercise.png\" width=\"45\"> **Exercise 2**\n",
    "<br>\n",
    "\n",
    "### My Rank"
   ]
  },
  {
   "cell_type": "markdown",
   "id": "ef02270b-aa74-4387-976d-5124fedf084f",
   "metadata": {
    "tags": []
   },
   "source": [
    "*Modify the program below so that<br>\n",
    "– every process writes its rank and the size of MPI_COMM_WORLD,<br>\n",
    "– only process ranked 0 in MPI_COMM_WORLD prints \"Hello World!\".*<br>\n",
    "&nbsp;<br>\n",
    "Note, if you don't change the cell below the next cell (mpiexec) will show errors."
   ]
  },
  {
   "cell_type": "code",
   "execution_count": 8,
   "id": "c9258630-975c-41ca-aab4-4e15c76d1e42",
   "metadata": {
    "tags": []
   },
   "outputs": [
    {
     "name": "stdout",
     "output_type": "stream",
     "text": [
      "Writing exercises/myrank.py\n"
     ]
    }
   ],
   "source": [
    "%%writefile exercises/myrank.py\n",
    "\n",
    "from mpi4py import MPI\n",
    "\n",
    "comm = MPI.COMM_WORLD\n",
    "# PLEASE QUERY my_rank and size of your communicator\n",
    "my_rank = \n",
    "size = \n",
    "\n",
    "# ONLY PROCESS 0 should print hello world\n",
    "if \n",
    "   print(\"Hello world!\")\n",
    "   \n",
    "print(f\"I am process {my_rank} out of {size}\")"
   ]
  },
  {
   "cell_type": "markdown",
   "id": "87af2510-d138-4a1f-8a6c-0d96830a27c6",
   "metadata": {
    "tags": []
   },
   "source": [
    "<br>**Run it with 4 MPI processes (run it several times to see run to run variations):**"
   ]
  },
  {
   "cell_type": "code",
   "execution_count": 10,
   "id": "cd8a2825-0677-4bc0-8ff9-09e6fc190360",
   "metadata": {
    "tags": []
   },
   "outputs": [
    {
     "name": "stdout",
     "output_type": "stream",
     "text": [
      "I am process 3 out of 4\n",
      "I am process 2 out of 4\n",
      "I am process 1 out of 4\n",
      "Hello world!\n",
      "I am process 0 out of 4\n"
     ]
    }
   ],
   "source": [
    "! mpiexec -n 4 python exercises/myrank.py"
   ]
  },
  {
   "cell_type": "markdown",
   "id": "f6636c82-6387-4acf-9b18-d50755322722",
   "metadata": {},
   "source": [
    "<br>**Expected output with 4 MPI processes:**"
   ]
  },
  {
   "cell_type": "raw",
   "id": "f2f1c640-8fe2-4659-b7bb-a2fb35633869",
   "metadata": {},
   "source": [
    "I am process 2 out of 4\n",
    "Hello world!\n",
    "I am process 0 out of 4\n",
    "I am process 3 out of 4\n",
    "I am process 1 out of 4"
   ]
  },
  {
   "cell_type": "markdown",
   "id": "e35ad255-b7d0-4cdc-a37d-f229ef2b4d38",
   "metadata": {},
   "source": [
    "<br>**Try different numbers of MPI processes:**"
   ]
  },
  {
   "cell_type": "code",
   "execution_count": null,
   "id": "c18783b6-68d5-4d88-8849-21c6e119fe17",
   "metadata": {
    "tags": []
   },
   "outputs": [],
   "source": [
    "! mpiexec -n 6 python exercises/myrank.py"
   ]
  },
  {
   "cell_type": "markdown",
   "id": "ad843f9b-0b17-4b64-a405-d88ea6e52f17",
   "metadata": {},
   "source": [
    "<br>*Why is the sequence of the output non-deterministic?*\n"
   ]
  },
  {
   "cell_type": "markdown",
   "id": "c7527f1b-a008-4f95-b14b-7c812172f372",
   "metadata": {
    "jp-MarkdownHeadingCollapsed": true,
    "tags": []
   },
   "source": [
    "#### Solution: Exercise 2 \n",
    "(please try to solve the exercise by yourself before looking at the solution)"
   ]
  },
  {
   "cell_type": "code",
   "execution_count": 1,
   "id": "9d483267-69ed-44ee-a2fc-57664ecb2524",
   "metadata": {
    "tags": []
   },
   "outputs": [
    {
     "name": "stdout",
     "output_type": "stream",
     "text": [
      "Overwriting solutions/solution_myrank.py\n"
     ]
    }
   ],
   "source": [
    "%%writefile solutions/solution_myrank.py\n",
    "\n",
    "from mpi4py import MPI\n",
    "\n",
    "comm = MPI.COMM_WORLD\n",
    "\n",
    "my_rank = comm.Get_rank()\n",
    "size = comm.Get_size()\n",
    "\n",
    "if (my_rank == 0):\n",
    "   print(\"Hello world!\")\n",
    "\n",
    "print(f\"I am process {my_rank} out of {size}\")"
   ]
  },
  {
   "cell_type": "markdown",
   "id": "8223cf17-10d5-4b05-9d21-dc491b926e80",
   "metadata": {},
   "source": [
    "<br>**Run the solution (run it several times to see run to run variations):**"
   ]
  },
  {
   "cell_type": "code",
   "execution_count": 3,
   "id": "126abe04-69ec-43fb-a64e-75120f785d3a",
   "metadata": {
    "tags": []
   },
   "outputs": [
    {
     "name": "stdout",
     "output_type": "stream",
     "text": [
      "I am process 2 out of 4\n",
      "I am process 1 out of 4\n",
      "I am process 3 out of 4\n",
      "Hello world!\n",
      "I am process 0 out of 4\n"
     ]
    }
   ],
   "source": [
    "! mpiexec -n 4 python solutions/solution_myrank.py"
   ]
  },
  {
   "cell_type": "markdown",
   "id": "0e64b14c-b25c-4ffd-a713-4d6cda8c3d97",
   "metadata": {},
   "source": [
    "&nbsp;"
   ]
  },
  {
   "cell_type": "markdown",
   "id": "dda10e76-e3ad-49d4-b354-30e04a4b643b",
   "metadata": {
    "tags": []
   },
   "source": [
    "<br>\n",
    "\n",
    "#### Extended version of the hello world program"
   ]
  },
  {
   "cell_type": "markdown",
   "id": "9f1d84f7-a171-44ea-aa26-2be7d93bd0d3",
   "metadata": {},
   "source": [
    "*This is an extended version that also prints the processor (=node) names where the MPI processes are running.*"
   ]
  },
  {
   "cell_type": "code",
   "execution_count": 37,
   "id": "535ae620-78bb-4c14-bac4-e7660d41a086",
   "metadata": {
    "tags": []
   },
   "outputs": [
    {
     "name": "stdout",
     "output_type": "stream",
     "text": [
      "Writing exercises/hello_processor_name.py\n"
     ]
    }
   ],
   "source": [
    "%%writefile exercises/hello_processor_name.py\n",
    "\n",
    "from mpi4py import MPI\n",
    "\n",
    "comm_world = MPI.COMM_WORLD\n",
    "\n",
    "my_rank = comm_world.Get_rank()\n",
    "size = comm_world.Get_size()\n",
    "name = MPI.Get_processor_name()\n",
    "\n",
    "if (my_rank == 0):\n",
    "   print(\"Hello World!\")\n",
    "\n",
    "print(f\"I am process {my_rank} out of {size} on {name}\")"
   ]
  },
  {
   "cell_type": "markdown",
   "id": "c5297a2d-1912-4df2-8bbf-f885a56cdb48",
   "metadata": {},
   "source": [
    "<br>**Run the extended version:**"
   ]
  },
  {
   "cell_type": "code",
   "execution_count": 41,
   "id": "bf03d21b-e9aa-4611-aae3-9d5a891580e8",
   "metadata": {
    "tags": []
   },
   "outputs": [
    {
     "name": "stdout",
     "output_type": "stream",
     "text": [
      "I am process 2 out of 4 on LAPTOP-GSJVC9H1\n",
      "Hello World!\n",
      "I am process 0 out of 4 on LAPTOP-GSJVC9H1\n",
      "I am process 1 out of 4 on LAPTOP-GSJVC9H1\n",
      "I am process 3 out of 4 on LAPTOP-GSJVC9H1\n"
     ]
    }
   ],
   "source": [
    "! mpiexec -n 4 python exercises/hello_processor_name.py"
   ]
  },
  {
   "cell_type": "markdown",
   "id": "fb927f27-b6fe-4c05-8fa4-e7a810c4525f",
   "metadata": {},
   "source": [
    "&nbsp;"
   ]
  },
  {
   "cell_type": "markdown",
   "id": "8430bfc5-c015-4d8b-851d-ac078efed5f4",
   "metadata": {
    "tags": []
   },
   "source": [
    "### Version Test (optional)"
   ]
  },
  {
   "cell_type": "markdown",
   "id": "1c6f3a2f-869d-4d63-b69d-b2071b6fc486",
   "metadata": {},
   "source": [
    "*Run the version test to figure out the version of the MPI library and of the header in use.*"
   ]
  },
  {
   "cell_type": "code",
   "execution_count": null,
   "id": "316bf1bb-45a2-48b6-ae2e-8aa142a156ee",
   "metadata": {
    "tags": []
   },
   "outputs": [],
   "source": [
    "%%writefile exercises/version_test.py\n",
    "\n",
    "from mpi4py import MPI\n",
    "\n",
    "(lib_version, lib_subversion) = MPI.Get_version()\n",
    "print(f\"Version: Library: {lib_version}.{lib_subversion} mpi.h: {MPI.VERSION}.{MPI.SUBVERSION}\")"
   ]
  },
  {
   "cell_type": "markdown",
   "id": "a7e2ce30-a697-4976-91e0-f09e37fb9ddb",
   "metadata": {},
   "source": [
    "<br>**Run it:**"
   ]
  },
  {
   "cell_type": "code",
   "execution_count": null,
   "id": "64fbbd61-0768-4406-a5ec-b110bc2ab7ad",
   "metadata": {
    "tags": []
   },
   "outputs": [],
   "source": [
    "! mpiexec -n 1 python exercises/version_test.py"
   ]
  },
  {
   "cell_type": "markdown",
   "id": "5c9010ae-081f-406a-8b0d-d95900384005",
   "metadata": {},
   "source": [
    "&nbsp;"
   ]
  }
 ],
 "metadata": {
  "kernelspec": {
   "display_name": "Python 3 (ipykernel)",
   "language": "python",
   "name": "python3"
  },
  "language_info": {
   "codemirror_mode": {
    "name": "ipython",
    "version": 3
   },
   "file_extension": ".py",
   "mimetype": "text/x-python",
   "name": "python",
   "nbconvert_exporter": "python",
   "pygments_lexer": "ipython3",
   "version": "3.12.4"
  }
 },
 "nbformat": 4,
 "nbformat_minor": 5
}
